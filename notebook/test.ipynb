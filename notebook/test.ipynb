{
 "cells": [
  {
   "cell_type": "code",
   "execution_count": 8,
   "metadata": {},
   "outputs": [],
   "source": [
    "slot_mapping = []\n",
    "computed_len = 0\n",
    "seq_len = 10\n",
    "_PAD_SLOT_ID = -1\n",
    "start_idx = 2\n",
    "block_table = []\n",
    "block_size = 4"
   ]
  },
  {
   "cell_type": "code",
   "execution_count": 9,
   "metadata": {},
   "outputs": [
    {
     "data": {
      "text/plain": [
       "[-1, -1, 2, 3, 0, 1, 2, 3, 0, 1]"
      ]
     },
     "execution_count": 9,
     "metadata": {},
     "output_type": "execute_result"
    }
   ],
   "source": [
    "for i in range(computed_len, seq_len):\n",
    "    # 小于初始索引就填充\n",
    "    if i < start_idx:\n",
    "        slot_mapping.append(_PAD_SLOT_ID)\n",
    "        continue\n",
    "\n",
    "    # 计算应用哪个块, 偏移量\n",
    "    # block_number = block_table[i //\n",
    "    #                             block_size]  # type: ignore\n",
    "    block_number = 0\n",
    "    block_offset = i % block_size  # type: ignore\n",
    "    slot = block_number * block_size + block_offset\n",
    "    slot_mapping.append(slot)\n",
    "\n",
    "slot_mapping"
   ]
  },
  {
   "cell_type": "code",
   "execution_count": 3,
   "metadata": {},
   "outputs": [],
   "source": [
    "for i in range(0, 2):\n",
    "    if i == 0:\n",
    "        continue\n",
    "    if i == 1:\n",
    "        break\n",
    "else:\n",
    "    print(i)"
   ]
  }
 ],
 "metadata": {
  "kernelspec": {
   "display_name": "py310",
   "language": "python",
   "name": "python3"
  },
  "language_info": {
   "codemirror_mode": {
    "name": "ipython",
    "version": 3
   },
   "file_extension": ".py",
   "mimetype": "text/x-python",
   "name": "python",
   "nbconvert_exporter": "python",
   "pygments_lexer": "ipython3",
   "version": "3.10.14"
  }
 },
 "nbformat": 4,
 "nbformat_minor": 2
}
